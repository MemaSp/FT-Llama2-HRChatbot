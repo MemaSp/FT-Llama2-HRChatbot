{
 "cells": [
  {
   "cell_type": "code",
   "execution_count": null,
   "metadata": {},
   "outputs": [],
   "source": [
    "import pandas as pd\n",
    "import matplotlib.pyplot as plt\n",
    "import seaborn as sns\n",
    "\n",
    "# Load the Excel file using openpyxl engine\n",
    "file_path = 'path_to_your_file/Questionnaire_Results.xlsx'  # Adjust the path accordingly\n",
    "sheet1 = pd.read_excel(file_path, sheet_name='Sheet1', engine='openpyxl')\n",
    "\n",
    "# Display the first few rows to understand the structure\n",
    "print(sheet1.head())\n",
    "\n",
    "# Extract relevant columns for analysis\n",
    "experience = sheet1['Professional Experience']\n",
    "completion_time = sheet1['Completion Time']\n",
    "accuracy = sheet1['Accuracy']\n",
    "confidence = sheet1['Confidence']\n",
    "difficulty = sheet1['Difficulty']\n",
    "\n",
    "# Combine relevant columns into a new DataFrame for visualization\n",
    "data = pd.DataFrame({\n",
    "    'Experience': experience,\n",
    "    'Completion Time': completion_time,\n",
    "    'Accuracy': accuracy,\n",
    "    'Confidence': confidence,\n",
    "    'Difficulty': difficulty\n",
    "})\n",
    "\n",
    "# Plotting Experience vs. Completion Time\n",
    "plt.figure(figsize=(12, 6))\n",
    "sns.boxplot(x='Experience', y='Completion Time', data=data)\n",
    "plt.title('Experience vs. Task Completion Time')\n",
    "plt.xlabel('Professional Experience')\n",
    "plt.ylabel('Completion Time')\n",
    "plt.show()\n",
    "\n",
    "# Plotting Experience vs. Accuracy\n",
    "plt.figure(figsize=(12, 6))\n",
    "sns.boxplot(x='Experience', y='Accuracy', data=data)\n",
    "plt.title('Experience vs. Task Performance (Accuracy)')\n",
    "plt.xlabel('Professional Experience')\n",
    "plt.ylabel('Accuracy')\n",
    "plt.show()\n",
    "\n",
    "# Plotting Confidence vs. Difficulty\n",
    "plt.figure(figsize=(12, 6))\n",
    "sns.boxplot(x='Confidence', y='Difficulty', data=data)\n",
    "plt.title('Confidence vs. Perceived Difficulty')\n",
    "plt.xlabel('Confidence')\n",
    "plt.ylabel('Difficulty')\n",
    "plt.show()\n"
   ]
  }
 ],
 "metadata": {
  "kernelspec": {
   "display_name": "Python 3",
   "language": "python",
   "name": "python3"
  },
  "language_info": {
   "codemirror_mode": {
    "name": "ipython",
    "version": 3
   },
   "file_extension": ".py",
   "mimetype": "text/x-python",
   "name": "python",
   "nbconvert_exporter": "python",
   "pygments_lexer": "ipython3",
   "version": "3.12.2"
  }
 },
 "nbformat": 4,
 "nbformat_minor": 2
}
